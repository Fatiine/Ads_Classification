{
 "cells": [
  {
   "cell_type": "code",
   "execution_count": 11,
   "metadata": {},
   "outputs": [],
   "source": [
    "import pandas as pd\n",
    "import numpy as np \n",
    "import matplotlib.pyplot as plt\n",
    "from dython import nominal\n",
    "import seaborn as sns"
   ]
  },
  {
   "cell_type": "code",
   "execution_count": 2,
   "metadata": {},
   "outputs": [
    {
     "data": {
      "text/html": [
       "<div>\n",
       "<style scoped>\n",
       "    .dataframe tbody tr th:only-of-type {\n",
       "        vertical-align: middle;\n",
       "    }\n",
       "\n",
       "    .dataframe tbody tr th {\n",
       "        vertical-align: top;\n",
       "    }\n",
       "\n",
       "    .dataframe thead th {\n",
       "        text-align: right;\n",
       "    }\n",
       "</style>\n",
       "<table border=\"1\" class=\"dataframe\">\n",
       "  <thead>\n",
       "    <tr style=\"text-align: right;\">\n",
       "      <th></th>\n",
       "      <th>ad_batchId</th>\n",
       "      <th>ad_taskId</th>\n",
       "      <th>ad_content_title</th>\n",
       "      <th>ad_content_body</th>\n",
       "      <th>ad_content_price_amount</th>\n",
       "      <th>ad_content_price_currency</th>\n",
       "      <th>ad_content_category_name</th>\n",
       "      <th>ad_content_createdAt</th>\n",
       "      <th>ad_content_updatedAt</th>\n",
       "      <th>ad_content_customerSpecific_version</th>\n",
       "      <th>...</th>\n",
       "      <th>ad_content_customerSpecific_wheelDiscType</th>\n",
       "      <th>ad_content_customerSpecific_wheelSize</th>\n",
       "      <th>ad_content_customerSpecific_wheelPcd</th>\n",
       "      <th>ad_content_customerSpecific_autoMotoModel</th>\n",
       "      <th>ad_content_customerSpecific_autoMotoBody</th>\n",
       "      <th>ad_content_customerSpecific_autoCondition</th>\n",
       "      <th>ad_content_customerSpecific_wheelTireType</th>\n",
       "      <th>ad_content_customerSpecific_wheelWidth</th>\n",
       "      <th>ad_content_customerSpecific_wheelHeight</th>\n",
       "      <th>ad_customerSpecific_moderationDecision</th>\n",
       "    </tr>\n",
       "  </thead>\n",
       "  <tbody>\n",
       "    <tr>\n",
       "      <th>0</th>\n",
       "      <td>fbad6cd7-28fd-4f4b-aaa6-a6b868948346</td>\n",
       "      <td>5b43fa5d-1366-458f-adca-d93c798d5218</td>\n",
       "      <td>Mercedes-Benz 190</td>\n",
       "      <td>Продается мерс, вложение по кузову, все вопрос...</td>\n",
       "      <td>520000.0</td>\n",
       "      <td>KZT</td>\n",
       "      <td>Used cars</td>\n",
       "      <td>2018-02-12T10:18:07.000Z</td>\n",
       "      <td>2018-02-12 10:19:47+00:00</td>\n",
       "      <td>13</td>\n",
       "      <td>...</td>\n",
       "      <td>NaN</td>\n",
       "      <td>NaN</td>\n",
       "      <td>NaN</td>\n",
       "      <td>NaN</td>\n",
       "      <td>NaN</td>\n",
       "      <td>NaN</td>\n",
       "      <td>NaN</td>\n",
       "      <td>NaN</td>\n",
       "      <td>NaN</td>\n",
       "      <td>approved</td>\n",
       "    </tr>\n",
       "    <tr>\n",
       "      <th>1</th>\n",
       "      <td>1d0a94b7-3ffd-424b-80e9-56628dae3dfe</td>\n",
       "      <td>704f1602-3806-41c2-bf31-f5e87dcdac7a</td>\n",
       "      <td>Решетка в бампер BMW E60 03-07 RH</td>\n",
       "      <td>Решетка в бампер BMW E60 03-07 RH. \\nДубликат....</td>\n",
       "      <td>6000.0</td>\n",
       "      <td>KZT</td>\n",
       "      <td>Sale of spare parts</td>\n",
       "      <td>2018-02-11T12:19:18.000Z</td>\n",
       "      <td>2018-02-12 10:19:49+00:00</td>\n",
       "      <td>7</td>\n",
       "      <td>...</td>\n",
       "      <td>NaN</td>\n",
       "      <td>NaN</td>\n",
       "      <td>NaN</td>\n",
       "      <td>NaN</td>\n",
       "      <td>NaN</td>\n",
       "      <td>NaN</td>\n",
       "      <td>NaN</td>\n",
       "      <td>NaN</td>\n",
       "      <td>NaN</td>\n",
       "      <td>approved</td>\n",
       "    </tr>\n",
       "    <tr>\n",
       "      <th>2</th>\n",
       "      <td>12c1bf84-4d5f-48e1-b9bf-6b55d076846e</td>\n",
       "      <td>21629a4b-645e-46e2-b6c6-aa88a6d52311</td>\n",
       "      <td>Помпа на Subaru Outback 2013-2015</td>\n",
       "      <td>Помпа на Субару Аутбак 2013-2015 двигатель FB2...</td>\n",
       "      <td>222.0</td>\n",
       "      <td>KZT</td>\n",
       "      <td>Sale of spare parts</td>\n",
       "      <td>2018-02-12T12:50:49.000Z</td>\n",
       "      <td>2018-02-12 12:54:35+00:00</td>\n",
       "      <td>12</td>\n",
       "      <td>...</td>\n",
       "      <td>NaN</td>\n",
       "      <td>NaN</td>\n",
       "      <td>NaN</td>\n",
       "      <td>NaN</td>\n",
       "      <td>NaN</td>\n",
       "      <td>NaN</td>\n",
       "      <td>NaN</td>\n",
       "      <td>NaN</td>\n",
       "      <td>NaN</td>\n",
       "      <td>approved</td>\n",
       "    </tr>\n",
       "    <tr>\n",
       "      <th>3</th>\n",
       "      <td>ff716a24-a089-4097-85b0-79c892a0bcd2</td>\n",
       "      <td>978c3ad4-150c-4eac-a91e-e61cbdb386a4</td>\n",
       "      <td>Audi 100</td>\n",
       "      <td>С продажей не тороплюсь</td>\n",
       "      <td>1000000.0</td>\n",
       "      <td>KZT</td>\n",
       "      <td>Used cars</td>\n",
       "      <td>2018-02-12T12:51:41.000Z</td>\n",
       "      <td>2018-02-12 12:54:35+00:00</td>\n",
       "      <td>8</td>\n",
       "      <td>...</td>\n",
       "      <td>NaN</td>\n",
       "      <td>NaN</td>\n",
       "      <td>NaN</td>\n",
       "      <td>NaN</td>\n",
       "      <td>NaN</td>\n",
       "      <td>NaN</td>\n",
       "      <td>NaN</td>\n",
       "      <td>NaN</td>\n",
       "      <td>NaN</td>\n",
       "      <td>approved</td>\n",
       "    </tr>\n",
       "    <tr>\n",
       "      <th>4</th>\n",
       "      <td>9a3c9c1c-6966-4e2f-a2b8-9aaba4fc6223</td>\n",
       "      <td>a0b796f9-0e01-4ea2-a7c7-75d1754f5c8f</td>\n",
       "      <td>ВАЗ (Lada) 2108 (хэтчбек)</td>\n",
       "      <td>Продаю ваз 2108, 91 года. машина на ходу\\nНахо...</td>\n",
       "      <td>270000.0</td>\n",
       "      <td>KZT</td>\n",
       "      <td>Used cars</td>\n",
       "      <td>2018-02-12T12:44:40.000Z</td>\n",
       "      <td>2018-02-12 12:54:38+00:00</td>\n",
       "      <td>11</td>\n",
       "      <td>...</td>\n",
       "      <td>NaN</td>\n",
       "      <td>NaN</td>\n",
       "      <td>NaN</td>\n",
       "      <td>NaN</td>\n",
       "      <td>NaN</td>\n",
       "      <td>NaN</td>\n",
       "      <td>NaN</td>\n",
       "      <td>NaN</td>\n",
       "      <td>NaN</td>\n",
       "      <td>approved</td>\n",
       "    </tr>\n",
       "  </tbody>\n",
       "</table>\n",
       "<p>5 rows × 40 columns</p>\n",
       "</div>"
      ],
      "text/plain": [
       "                             ad_batchId                             ad_taskId  \\\n",
       "0  fbad6cd7-28fd-4f4b-aaa6-a6b868948346  5b43fa5d-1366-458f-adca-d93c798d5218   \n",
       "1  1d0a94b7-3ffd-424b-80e9-56628dae3dfe  704f1602-3806-41c2-bf31-f5e87dcdac7a   \n",
       "2  12c1bf84-4d5f-48e1-b9bf-6b55d076846e  21629a4b-645e-46e2-b6c6-aa88a6d52311   \n",
       "3  ff716a24-a089-4097-85b0-79c892a0bcd2  978c3ad4-150c-4eac-a91e-e61cbdb386a4   \n",
       "4  9a3c9c1c-6966-4e2f-a2b8-9aaba4fc6223  a0b796f9-0e01-4ea2-a7c7-75d1754f5c8f   \n",
       "\n",
       "                    ad_content_title  \\\n",
       "0                  Mercedes-Benz 190   \n",
       "1  Решетка в бампер BMW E60 03-07 RH   \n",
       "2  Помпа на Subaru Outback 2013-2015   \n",
       "3                           Audi 100   \n",
       "4          ВАЗ (Lada) 2108 (хэтчбек)   \n",
       "\n",
       "                                     ad_content_body  ad_content_price_amount  \\\n",
       "0  Продается мерс, вложение по кузову, все вопрос...                 520000.0   \n",
       "1  Решетка в бампер BMW E60 03-07 RH. \\nДубликат....                   6000.0   \n",
       "2  Помпа на Субару Аутбак 2013-2015 двигатель FB2...                    222.0   \n",
       "3                            С продажей не тороплюсь                1000000.0   \n",
       "4  Продаю ваз 2108, 91 года. машина на ходу\\nНахо...                 270000.0   \n",
       "\n",
       "  ad_content_price_currency ad_content_category_name  \\\n",
       "0                       KZT                Used cars   \n",
       "1                       KZT      Sale of spare parts   \n",
       "2                       KZT      Sale of spare parts   \n",
       "3                       KZT                Used cars   \n",
       "4                       KZT                Used cars   \n",
       "\n",
       "       ad_content_createdAt       ad_content_updatedAt  \\\n",
       "0  2018-02-12T10:18:07.000Z  2018-02-12 10:19:47+00:00   \n",
       "1  2018-02-11T12:19:18.000Z  2018-02-12 10:19:49+00:00   \n",
       "2  2018-02-12T12:50:49.000Z  2018-02-12 12:54:35+00:00   \n",
       "3  2018-02-12T12:51:41.000Z  2018-02-12 12:54:35+00:00   \n",
       "4  2018-02-12T12:44:40.000Z  2018-02-12 12:54:38+00:00   \n",
       "\n",
       "   ad_content_customerSpecific_version  ...  \\\n",
       "0                                   13  ...   \n",
       "1                                    7  ...   \n",
       "2                                   12  ...   \n",
       "3                                    8  ...   \n",
       "4                                   11  ...   \n",
       "\n",
       "  ad_content_customerSpecific_wheelDiscType  \\\n",
       "0                                       NaN   \n",
       "1                                       NaN   \n",
       "2                                       NaN   \n",
       "3                                       NaN   \n",
       "4                                       NaN   \n",
       "\n",
       "  ad_content_customerSpecific_wheelSize  ad_content_customerSpecific_wheelPcd  \\\n",
       "0                                   NaN                                   NaN   \n",
       "1                                   NaN                                   NaN   \n",
       "2                                   NaN                                   NaN   \n",
       "3                                   NaN                                   NaN   \n",
       "4                                   NaN                                   NaN   \n",
       "\n",
       "   ad_content_customerSpecific_autoMotoModel  \\\n",
       "0                                        NaN   \n",
       "1                                        NaN   \n",
       "2                                        NaN   \n",
       "3                                        NaN   \n",
       "4                                        NaN   \n",
       "\n",
       "   ad_content_customerSpecific_autoMotoBody  \\\n",
       "0                                       NaN   \n",
       "1                                       NaN   \n",
       "2                                       NaN   \n",
       "3                                       NaN   \n",
       "4                                       NaN   \n",
       "\n",
       "   ad_content_customerSpecific_autoCondition  \\\n",
       "0                                        NaN   \n",
       "1                                        NaN   \n",
       "2                                        NaN   \n",
       "3                                        NaN   \n",
       "4                                        NaN   \n",
       "\n",
       "   ad_content_customerSpecific_wheelTireType  \\\n",
       "0                                        NaN   \n",
       "1                                        NaN   \n",
       "2                                        NaN   \n",
       "3                                        NaN   \n",
       "4                                        NaN   \n",
       "\n",
       "   ad_content_customerSpecific_wheelWidth  \\\n",
       "0                                     NaN   \n",
       "1                                     NaN   \n",
       "2                                     NaN   \n",
       "3                                     NaN   \n",
       "4                                     NaN   \n",
       "\n",
       "   ad_content_customerSpecific_wheelHeight  \\\n",
       "0                                      NaN   \n",
       "1                                      NaN   \n",
       "2                                      NaN   \n",
       "3                                      NaN   \n",
       "4                                      NaN   \n",
       "\n",
       "  ad_customerSpecific_moderationDecision  \n",
       "0                               approved  \n",
       "1                               approved  \n",
       "2                               approved  \n",
       "3                               approved  \n",
       "4                               approved  \n",
       "\n",
       "[5 rows x 40 columns]"
      ]
     },
     "execution_count": 2,
     "metadata": {},
     "output_type": "execute_result"
    }
   ],
   "source": [
    "train_data = pd.read_csv(\"dataset/train.csv\")\n",
    "test_data = pd.read_csv(\"dataset/test.csv\")\n",
    "train_data.head()"
   ]
  },
  {
   "cell_type": "markdown",
   "metadata": {},
   "source": [
    "# I/-Exploring dataset\n",
    "\n",
    "We first start exploring the dataset and its colmuns. "
   ]
  },
  {
   "cell_type": "code",
   "execution_count": 3,
   "metadata": {},
   "outputs": [
    {
     "name": "stdout",
     "output_type": "stream",
     "text": [
      "<class 'pandas.core.frame.DataFrame'>\n",
      "RangeIndex: 400000 entries, 0 to 399999\n",
      "Data columns (total 40 columns):\n",
      " #   Column                                      Non-Null Count   Dtype  \n",
      "---  ------                                      --------------   -----  \n",
      " 0   ad_batchId                                  400000 non-null  object \n",
      " 1   ad_taskId                                   400000 non-null  object \n",
      " 2   ad_content_title                            400000 non-null  object \n",
      " 3   ad_content_body                             370131 non-null  object \n",
      " 4   ad_content_price_amount                     399851 non-null  float64\n",
      " 5   ad_content_price_currency                   399851 non-null  object \n",
      " 6   ad_content_category_name                    400000 non-null  object \n",
      " 7   ad_content_createdAt                        400000 non-null  object \n",
      " 8   ad_content_updatedAt                        400000 non-null  object \n",
      " 9   ad_content_customerSpecific_version         400000 non-null  int64  \n",
      " 10  ad_content_customerSpecific_device          400000 non-null  object \n",
      " 11  ad_content_customerSpecific_autoCarMm       375464 non-null  object \n",
      " 12  ad_content_customerSpecific_autoCarBody     151876 non-null  float64\n",
      " 13  ad_content_customerSpecific_autoCarOrder    396779 non-null  float64\n",
      " 14  ad_content_customerSpecific_year            154223 non-null  float64\n",
      " 15  ad_content_customerSpecific_autoRun         90118 non-null   float64\n",
      " 16  ad_content_customerSpecific_autoCarVolume   151841 non-null  float64\n",
      " 17  ad_content_customerSpecific_autoCarTransm   151877 non-null  float64\n",
      " 18  ad_content_customerSpecific_autoColor       139147 non-null  float64\n",
      " 19  ad_content_customerSpecific_autoColorM      79248 non-null   object \n",
      " 20  ad_content_customerSpecific_autoCustom      151874 non-null  float64\n",
      " 21  ad_content_customerSpecific_autoEmergency   151877 non-null  float64\n",
      " 22  ad_content_customerSpecific_autoCarGrbody   151867 non-null  float64\n",
      " 23  ad_content_customerSpecific_carDwheel       133971 non-null  float64\n",
      " 24  ad_location_ipAddress                       400000 non-null  object \n",
      " 25  ad_location_city                            399961 non-null  object \n",
      " 26  ad_location_region                          399961 non-null  object \n",
      " 27  ad_location_customerSpecific_regionList_id  399961 non-null  float64\n",
      " 28  ad_user_customerSpecific_registeredAt       371543 non-null  object \n",
      " 29  ad_content_customerSpecific_spareCondition  245736 non-null  float64\n",
      " 30  ad_content_customerSpecific_wheelDiscType   8846 non-null    float64\n",
      " 31  ad_content_customerSpecific_wheelSize       22149 non-null   object \n",
      " 32  ad_content_customerSpecific_wheelPcd        8846 non-null    object \n",
      " 33  ad_content_customerSpecific_autoMotoModel   1787 non-null    object \n",
      " 34  ad_content_customerSpecific_autoMotoBody    2311 non-null    float64\n",
      " 35  ad_content_customerSpecific_autoCondition   2346 non-null    float64\n",
      " 36  ad_content_customerSpecific_wheelTireType   13303 non-null   float64\n",
      " 37  ad_content_customerSpecific_wheelWidth      13303 non-null   float64\n",
      " 38  ad_content_customerSpecific_wheelHeight     13303 non-null   float64\n",
      " 39  ad_customerSpecific_moderationDecision      400000 non-null  object \n",
      "dtypes: float64(20), int64(1), object(19)\n",
      "memory usage: 122.1+ MB\n"
     ]
    }
   ],
   "source": [
    "train_data.info()"
   ]
  },
  {
   "cell_type": "markdown",
   "metadata": {},
   "source": [
    "We see that a lot of columns suffers from missing data, however an important remark is that a lot of columns are category specific. We start by exploring columns with less missing data. "
   ]
  },
  {
   "cell_type": "markdown",
   "metadata": {},
   "source": [
    "### TARGET COLUMN "
   ]
  },
  {
   "cell_type": "code",
   "execution_count": 5,
   "metadata": {},
   "outputs": [
    {
     "data": {
      "text/plain": [
       "<matplotlib.axes._subplots.AxesSubplot at 0x113799450>"
      ]
     },
     "execution_count": 5,
     "metadata": {},
     "output_type": "execute_result"
    },
    {
     "data": {
      "image/png": "[encoded data removed]",
      "text/plain": [
       "<Figure size 432x288 with 1 Axes>"
      ]
     },
     "metadata": {
      "needs_background": "light"
     },
     "output_type": "display_data"
    }
   ],
   "source": [
    "target_column = \"ad_customerSpecific_moderationDecision\"\n",
    "train_data[target_column].value_counts().plot(kind='barh')"
   ]
  },
  {
   "cell_type": "code",
   "execution_count": 6,
   "metadata": {},
   "outputs": [
    {
     "data": {
      "text/plain": [
       "approved    93.6075\n",
       "rejected     6.3925\n",
       "Name: ad_customerSpecific_moderationDecision, dtype: float64"
      ]
     },
     "execution_count": 6,
     "metadata": {},
     "output_type": "execute_result"
    }
   ],
   "source": [
    "train_data[target_column].value_counts(normalize=True)*100"
   ]
  },
  {
   "cell_type": "markdown",
   "metadata": {},
   "source": [
    "The train dataset is highly imbalanced. We have 94% of the samples in the positive class, and only 6% on the negative class."
   ]
  },
  {
   "cell_type": "markdown",
   "metadata": {},
   "source": [
    "### LOCATION COLUMNS "
   ]
  },
  {
   "cell_type": "code",
   "execution_count": 8,
   "metadata": {},
   "outputs": [
    {
     "data": {
      "text/plain": [
       "['ad_location_ipAddress',\n",
       " 'ad_location_city',\n",
       " 'ad_location_region',\n",
       " 'ad_location_customerSpecific_regionList_id']"
      ]
     },
     "execution_count": 8,
     "metadata": {},
     "output_type": "execute_result"
    }
   ],
   "source": [
    "location_columns = [col for col in train_data.columns if \"location\" in col]\n",
    "location_columns"
   ]
  },
  {
   "cell_type": "code",
   "execution_count": 9,
   "metadata": {},
   "outputs": [
    {
     "data": {
      "text/plain": [
       "<matplotlib.axes._subplots.AxesSubplot at 0x1138698d0>"
      ]
     },
     "execution_count": 9,
     "metadata": {},
     "output_type": "execute_result"
    },
    {
     "data": {
      "image/png": "[encoded data removed]",
      "text/plain": [
       "<Figure size 432x288 with 1 Axes>"
      ]
     },
     "metadata": {
      "needs_background": "light"
     },
     "output_type": "display_data"
    }
   ],
   "source": [
    "train_data[\"ad_location_customerSpecific_regionList_id\"].value_counts()[:20].plot(kind=\"barh\")"
   ]
  },
  {
   "cell_type": "markdown",
   "metadata": {},
   "source": [
    "`ad_location_customerSpecific_regionList_id` is a categorical data. "
   ]
  },
  {
   "cell_type": "code",
   "execution_count": 10,
   "metadata": {},
   "outputs": [],
   "source": [
    "# Transform `ad_location_customerSpecific_regionList_id` to categorical data.\n",
    "train_data[\"ad_location_customerSpecific_regionList_id\"] = train_data[\"ad_location_customerSpecific_regionList_id\"].astype('object')"
   ]
  },
  {
   "cell_type": "markdown",
   "metadata": {},
   "source": [
    "We compute the correlation between the variables : `ad_location_customerSpecific_regionList_id`, `ad_location_city`, `ad_location_region`, `ad_location_ipAddress`"
   ]
  },
  {
   "cell_type": "code",
   "execution_count": 12,
   "metadata": {},
   "outputs": [
    {
     "name": "stderr",
     "output_type": "stream",
     "text": [
      "/usr/local/lib/python3.7/site-packages/pandas/core/frame.py:4153: SettingWithCopyWarning: \n",
      "A value is trying to be set on a copy of a slice from a DataFrame\n",
      "\n",
      "See the caveats in the documentation: https://pandas.pydata.org/pandas-docs/stable/user_guide/indexing.html#returning-a-view-versus-a-copy\n",
      "  downcast=downcast,\n"
     ]
    },
    {
     "data": {
      "text/plain": [
       "<matplotlib.axes._subplots.AxesSubplot at 0x120ef8310>"
      ]
     },
     "execution_count": 12,
     "metadata": {},
     "output_type": "execute_result"
    },
    {
     "data": {
      "image/png": "[encoded data removed]",
      "text/plain": [
       "<Figure size 720x720 with 2 Axes>"
      ]
     },
     "metadata": {
      "needs_background": "light"
     },
     "output_type": "display_data"
    }
   ],
   "source": [
    "corr_matrix = nominal.associations(train_data[location_columns], nominal_columns=location_columns, plot=False, return_results=True , theils_u=True)\n",
    "fig, ax = plt.subplots(figsize=(10,10)) \n",
    "sns.heatmap(corr_matrix, annot=True, linewidths=.5, ax=ax)"
   ]
  },
  {
   "cell_type": "markdown",
   "metadata": {},
   "source": [
    "As `ad_location_customerSpecific_regionList_id`, `ad_location_city`, `ad_location_region`, `ad_location_ipAddress` are highly correlated. We keep just one of them : `ad_location_customerSpecific_regionList_id`"
   ]
  },
  {
   "cell_type": "code",
   "execution_count": 13,
   "metadata": {},
   "outputs": [],
   "source": [
    "train_data.drop(columns=['ad_location_city','ad_location_region','ad_location_ipAddress'], inplace=True)\n",
    "#test_data.drop(columns=['ad_location_city','ad_location_region','ad_location_ipAddress'], inplace=True)"
   ]
  },
  {
   "cell_type": "markdown",
   "metadata": {},
   "source": [
    "### PRICE CURRENCY COLUMNS"
   ]
  },
  {
   "cell_type": "code",
   "execution_count": 14,
   "metadata": {},
   "outputs": [
    {
     "data": {
      "text/plain": [
       "KZT    399841\n",
       "USD         8\n",
       "RUB         2\n",
       "Name: ad_content_price_currency, dtype: int64"
      ]
     },
     "execution_count": 14,
     "metadata": {},
     "output_type": "execute_result"
    }
   ],
   "source": [
    "train_data[\"ad_content_price_currency\"].value_counts()"
   ]
  },
  {
   "cell_type": "code",
   "execution_count": 15,
   "metadata": {},
   "outputs": [
    {
     "data": {
      "text/plain": [
       "KZT    100190\n",
       "USD         8\n",
       "Name: ad_content_price_currency, dtype: int64"
      ]
     },
     "execution_count": 15,
     "metadata": {},
     "output_type": "execute_result"
    }
   ],
   "source": [
    "test_data[\"ad_content_price_currency\"].value_counts()"
   ]
  },
  {
   "cell_type": "markdown",
   "metadata": {},
   "source": [
    "The majority of the currencies are in KZT. And only 10 prices are in different currencies. So it would be better of we convert all currencies to `KZT`"
   ]
  },
  {
   "cell_type": "code",
   "execution_count": 16,
   "metadata": {},
   "outputs": [],
   "source": [
    "currency_exchange_dict = {\"RUB_KZT\" : 5.82, \n",
    "                         \"USD_KZT\": 399.63}\n",
    "\n",
    "# USD to KZT \n",
    "train_data[\"ad_content_price_amount\"] = train_data[\"ad_content_price_amount\"]*currency_exchange_dict['USD_KZT']\n",
    "train_data[\"ad_content_price_currency\"] = \"KZT\"\n",
    "\n",
    "# RUB to KZT \n",
    "train_data[\"ad_content_price_amount\"] = train_data[\"ad_content_price_amount\"]*currency_exchange_dict['RUB_KZT']\n",
    "train_data[\"ad_content_price_currency\"] = \"KZT\"\n",
    "\n",
    "train_data.drop(columns=\"ad_content_price_currency\", inplace=True)"
   ]
  },
  {
   "cell_type": "markdown",
   "metadata": {},
   "source": [
    "### TIME COLUMNS \n",
    "\n",
    "We have 3 time columns.\n",
    "I created 2 features using those 3 columns. Those features represent the time in days between creation and update times, and time in days between registration and creation times."
   ]
  },
  {
   "cell_type": "code",
   "execution_count": 17,
   "metadata": {},
   "outputs": [],
   "source": [
    "time_columns = ['ad_content_createdAt','ad_content_updatedAt','ad_user_customerSpecific_registeredAt']\n",
    "\n",
    "for col in time_columns:\n",
    "    train_data[col] = pd.to_datetime(train_data[col], utc=True)\n",
    "\n",
    "train_data['time_between_creation_update'] = (train_data['ad_content_updatedAt'] - train_data['ad_content_createdAt']).dt.days\n",
    "train_data['time_between_registration_creation'] = (train_data['ad_content_createdAt'] - train_data['ad_user_customerSpecific_registeredAt'] ).dt.days\n",
    "train_data.drop(columns=time_columns, inplace=True)"
   ]
  },
  {
   "cell_type": "markdown",
   "metadata": {},
   "source": [
    "### SPLIT DATA INTO CATEGORIES \n",
    "\n",
    "As a lot of columns are category specific, we should then split our dataset by categories. "
   ]
  },
  {
   "cell_type": "code",
   "execution_count": 18,
   "metadata": {},
   "outputs": [
    {
     "data": {
      "text/plain": [
       "{'Sale of spare parts',\n",
       " 'Tires',\n",
       " 'Two-wheeled motor vehicles',\n",
       " 'Used cars',\n",
       " 'Wheel disks'}"
      ]
     },
     "execution_count": 18,
     "metadata": {},
     "output_type": "execute_result"
    }
   ],
   "source": [
    "categories = set(train_data.ad_content_category_name)\n",
    "\n",
    "categories"
   ]
  },
  {
   "cell_type": "markdown",
   "metadata": {},
   "source": [
    "5 Categories are present in our dataset, we will explore the features of each category."
   ]
  },
  {
   "cell_type": "code",
   "execution_count": 19,
   "metadata": {},
   "outputs": [],
   "source": [
    "train_data_by_category = {}\n",
    "test_data_by_category = {}\n",
    "\n",
    "for category in set(train_data.ad_content_category_name):\n",
    "    train_data_by_category[category] =\\\n",
    "     train_data[train_data.ad_content_category_name\n",
    "                == category].drop(\"ad_content_category_name\", axis=1)\n",
    "\n",
    "    test_data_by_category[category] =\\\n",
    "     test_data[test_data.ad_content_category_name\n",
    "                == category].drop(\"ad_content_category_name\", axis=1)\n",
    "            "
   ]
  },
  {
   "cell_type": "markdown",
   "metadata": {},
   "source": [
    "By spltting the data set by categoy we see that we got rid of missing points, we almost have no missing data now. We still need a preporcessing step to get rid of columns with no data in each category:"
   ]
  },
  {
   "cell_type": "code",
   "execution_count": 20,
   "metadata": {},
   "outputs": [],
   "source": [
    "for category in categories:\n",
    "    train_data_by_category[category] =\\\n",
    "     train_data_by_category[category].dropna(axis=1, how=\"all\")\n",
    "\n",
    "    test_data_by_category[category] =\\\n",
    "     test_data_by_category[category].dropna(axis=1, how=\"all\")\n",
    "\n"
   ]
  },
  {
   "cell_type": "code",
   "execution_count": 22,
   "metadata": {},
   "outputs": [
    {
     "name": "stdout",
     "output_type": "stream",
     "text": [
      "Category: Sale of spare parts\n",
      "Train\n",
      "<class 'pandas.core.frame.DataFrame'>\n",
      "Int64Index: 223615 entries, 1 to 399999\n",
      "Data columns (total 14 columns):\n",
      " #   Column                                      Non-Null Count   Dtype  \n",
      "---  ------                                      --------------   -----  \n",
      " 0   ad_batchId                                  223615 non-null  object \n",
      " 1   ad_taskId                                   223615 non-null  object \n",
      " 2   ad_content_title                            223615 non-null  object \n",
      " 3   ad_content_body                             222393 non-null  object \n",
      " 4   ad_content_price_amount                     223575 non-null  float64\n",
      " 5   ad_content_customerSpecific_version         223615 non-null  int64  \n",
      " 6   ad_content_customerSpecific_device          223615 non-null  object \n",
      " 7   ad_content_customerSpecific_autoCarMm       223587 non-null  object \n",
      " 8   ad_content_customerSpecific_autoCarOrder    222757 non-null  float64\n",
      " 9   ad_location_customerSpecific_regionList_id  223587 non-null  object \n",
      " 10  ad_content_customerSpecific_spareCondition  223586 non-null  float64\n",
      " 11  ad_customerSpecific_moderationDecision      223615 non-null  object \n",
      " 12  time_between_creation_update                223615 non-null  int64  \n",
      " 13  time_between_registration_creation          222326 non-null  float64\n",
      "dtypes: float64(4), int64(2), object(8)\n",
      "memory usage: 25.6+ MB\n",
      "None\n",
      "Test\n",
      "<class 'pandas.core.frame.DataFrame'>\n",
      "Int64Index: 49027 entries, 6 to 100217\n",
      "Data columns (total 18 columns):\n",
      " #   Column                                      Non-Null Count  Dtype  \n",
      "---  ------                                      --------------  -----  \n",
      " 0   ad_batchId                                  49027 non-null  object \n",
      " 1   ad_taskId                                   49027 non-null  object \n",
      " 2   ad_content_title                            49027 non-null  object \n",
      " 3   ad_content_body                             48685 non-null  object \n",
      " 4   ad_content_price_amount                     49026 non-null  float64\n",
      " 5   ad_content_price_currency                   49026 non-null  object \n",
      " 6   ad_content_createdAt                        49027 non-null  object \n",
      " 7   ad_content_updatedAt                        49027 non-null  object \n",
      " 8   ad_content_customerSpecific_version         49027 non-null  int64  \n",
      " 9   ad_content_customerSpecific_device          49027 non-null  object \n",
      " 10  ad_content_customerSpecific_autoCarMm       49026 non-null  object \n",
      " 11  ad_content_customerSpecific_autoCarOrder    48736 non-null  float64\n",
      " 12  ad_location_ipAddress                       49027 non-null  object \n",
      " 13  ad_location_city                            49026 non-null  object \n",
      " 14  ad_location_region                          49026 non-null  object \n",
      " 15  ad_location_customerSpecific_regionList_id  49026 non-null  float64\n",
      " 16  ad_user_customerSpecific_registeredAt       48634 non-null  object \n",
      " 17  ad_content_customerSpecific_spareCondition  49026 non-null  float64\n",
      "dtypes: float64(4), int64(1), object(13)\n",
      "memory usage: 7.1+ MB\n",
      "None\n",
      "##################################################\n",
      "Category: Tires\n",
      "Train\n",
      "<class 'pandas.core.frame.DataFrame'>\n",
      "Int64Index: 13313 entries, 188 to 399981\n",
      "Data columns (total 17 columns):\n",
      " #   Column                                      Non-Null Count  Dtype  \n",
      "---  ------                                      --------------  -----  \n",
      " 0   ad_batchId                                  13313 non-null  object \n",
      " 1   ad_taskId                                   13313 non-null  object \n",
      " 2   ad_content_title                            13313 non-null  object \n",
      " 3   ad_content_body                             12784 non-null  object \n",
      " 4   ad_content_price_amount                     13303 non-null  float64\n",
      " 5   ad_content_customerSpecific_version         13313 non-null  int64  \n",
      " 6   ad_content_customerSpecific_device          13313 non-null  object \n",
      " 7   ad_content_customerSpecific_autoCarOrder    13303 non-null  float64\n",
      " 8   ad_location_customerSpecific_regionList_id  13303 non-null  object \n",
      " 9   ad_content_customerSpecific_spareCondition  13303 non-null  float64\n",
      " 10  ad_content_customerSpecific_wheelSize       13303 non-null  object \n",
      " 11  ad_content_customerSpecific_wheelTireType   13303 non-null  float64\n",
      " 12  ad_content_customerSpecific_wheelWidth      13303 non-null  float64\n",
      " 13  ad_content_customerSpecific_wheelHeight     13303 non-null  float64\n",
      " 14  ad_customerSpecific_moderationDecision      13313 non-null  object \n",
      " 15  time_between_creation_update                13313 non-null  int64  \n",
      " 16  time_between_registration_creation          13059 non-null  float64\n",
      "dtypes: float64(7), int64(2), object(8)\n",
      "memory usage: 1.8+ MB\n",
      "None\n",
      "Test\n",
      "<class 'pandas.core.frame.DataFrame'>\n",
      "Int64Index: 4182 entries, 169 to 100110\n",
      "Data columns (total 21 columns):\n",
      " #   Column                                      Non-Null Count  Dtype  \n",
      "---  ------                                      --------------  -----  \n",
      " 0   ad_batchId                                  4182 non-null   object \n",
      " 1   ad_taskId                                   4182 non-null   object \n",
      " 2   ad_content_title                            4182 non-null   object \n",
      " 3   ad_content_body                             4062 non-null   object \n",
      " 4   ad_content_price_amount                     4181 non-null   float64\n",
      " 5   ad_content_price_currency                   4181 non-null   object \n",
      " 6   ad_content_createdAt                        4182 non-null   object \n",
      " 7   ad_content_updatedAt                        4182 non-null   object \n",
      " 8   ad_content_customerSpecific_version         4182 non-null   int64  \n",
      " 9   ad_content_customerSpecific_device          4182 non-null   object \n",
      " 10  ad_content_customerSpecific_autoCarOrder    4182 non-null   float64\n",
      " 11  ad_location_ipAddress                       4182 non-null   object \n",
      " 12  ad_location_city                            4182 non-null   object \n",
      " 13  ad_location_region                          4182 non-null   object \n",
      " 14  ad_location_customerSpecific_regionList_id  4182 non-null   float64\n",
      " 15  ad_user_customerSpecific_registeredAt       4072 non-null   object \n",
      " 16  ad_content_customerSpecific_spareCondition  4182 non-null   float64\n",
      " 17  ad_content_customerSpecific_wheelSize       4182 non-null   object \n",
      " 18  ad_content_customerSpecific_wheelTireType   4182 non-null   float64\n",
      " 19  ad_content_customerSpecific_wheelWidth      4182 non-null   float64\n",
      " 20  ad_content_customerSpecific_wheelHeight     4182 non-null   float64\n",
      "dtypes: float64(7), int64(1), object(13)\n",
      "memory usage: 718.8+ KB\n",
      "None\n",
      "##################################################\n",
      "Category: Two-wheeled motor vehicles\n",
      "Train\n",
      "<class 'pandas.core.frame.DataFrame'>\n",
      "Int64Index: 2346 entries, 31 to 399902\n",
      "Data columns (total 15 columns):\n",
      " #   Column                                      Non-Null Count  Dtype  \n",
      "---  ------                                      --------------  -----  \n",
      " 0   ad_batchId                                  2346 non-null   object \n",
      " 1   ad_taskId                                   2346 non-null   object \n",
      " 2   ad_content_title                            2346 non-null   object \n",
      " 3   ad_content_body                             2173 non-null   object \n",
      " 4   ad_content_price_amount                     2255 non-null   float64\n",
      " 5   ad_content_customerSpecific_version         2346 non-null   int64  \n",
      " 6   ad_content_customerSpecific_device          2346 non-null   object \n",
      " 7   ad_content_customerSpecific_year            2346 non-null   float64\n",
      " 8   ad_location_customerSpecific_regionList_id  2346 non-null   object \n",
      " 9   ad_content_customerSpecific_autoMotoModel   1787 non-null   object \n",
      " 10  ad_content_customerSpecific_autoMotoBody    2311 non-null   float64\n",
      " 11  ad_content_customerSpecific_autoCondition   2346 non-null   float64\n",
      " 12  ad_customerSpecific_moderationDecision      2346 non-null   object \n",
      " 13  time_between_creation_update                2346 non-null   int64  \n",
      " 14  time_between_registration_creation          2173 non-null   float64\n",
      "dtypes: float64(5), int64(2), object(8)\n",
      "memory usage: 293.2+ KB\n",
      "None\n",
      "Test\n",
      "<class 'pandas.core.frame.DataFrame'>\n",
      "Int64Index: 684 entries, 1 to 100143\n",
      "Data columns (total 19 columns):\n",
      " #   Column                                      Non-Null Count  Dtype  \n",
      "---  ------                                      --------------  -----  \n",
      " 0   ad_batchId                                  684 non-null    object \n",
      " 1   ad_taskId                                   684 non-null    object \n",
      " 2   ad_content_title                            684 non-null    object \n",
      " 3   ad_content_body                             623 non-null    object \n",
      " 4   ad_content_price_amount                     655 non-null    float64\n",
      " 5   ad_content_price_currency                   655 non-null    object \n",
      " 6   ad_content_createdAt                        684 non-null    object \n",
      " 7   ad_content_updatedAt                        684 non-null    object \n",
      " 8   ad_content_customerSpecific_version         684 non-null    int64  \n",
      " 9   ad_content_customerSpecific_device          684 non-null    object \n",
      " 10  ad_content_customerSpecific_year            684 non-null    float64\n",
      " 11  ad_location_ipAddress                       684 non-null    object \n",
      " 12  ad_location_city                            684 non-null    object \n",
      " 13  ad_location_region                          684 non-null    object \n",
      " 14  ad_location_customerSpecific_regionList_id  684 non-null    float64\n",
      " 15  ad_user_customerSpecific_registeredAt       647 non-null    object \n",
      " 16  ad_content_customerSpecific_autoMotoModel   544 non-null    object \n",
      " 17  ad_content_customerSpecific_autoMotoBody    678 non-null    float64\n",
      " 18  ad_content_customerSpecific_autoCondition   684 non-null    float64\n",
      "dtypes: float64(5), int64(1), object(13)\n",
      "memory usage: 106.9+ KB\n",
      "None\n",
      "##################################################\n",
      "Category: Wheel disks\n",
      "Train\n",
      "<class 'pandas.core.frame.DataFrame'>\n",
      "Int64Index: 8848 entries, 6 to 399980\n",
      "Data columns (total 16 columns):\n",
      " #   Column                                      Non-Null Count  Dtype  \n",
      "---  ------                                      --------------  -----  \n",
      " 0   ad_batchId                                  8848 non-null   object \n",
      " 1   ad_taskId                                   8848 non-null   object \n",
      " 2   ad_content_title                            8848 non-null   object \n",
      " 3   ad_content_body                             8390 non-null   object \n",
      " 4   ad_content_price_amount                     8847 non-null   float64\n",
      " 5   ad_content_customerSpecific_version         8848 non-null   int64  \n",
      " 6   ad_content_customerSpecific_device          8848 non-null   object \n",
      " 7   ad_content_customerSpecific_autoCarOrder    8847 non-null   float64\n",
      " 8   ad_location_customerSpecific_regionList_id  8847 non-null   object \n",
      " 9   ad_content_customerSpecific_spareCondition  8847 non-null   float64\n",
      " 10  ad_content_customerSpecific_wheelDiscType   8846 non-null   float64\n",
      " 11  ad_content_customerSpecific_wheelSize       8846 non-null   object \n",
      " 12  ad_content_customerSpecific_wheelPcd        8846 non-null   object \n",
      " 13  ad_customerSpecific_moderationDecision      8848 non-null   object \n",
      " 14  time_between_creation_update                8848 non-null   int64  \n",
      " 15  time_between_registration_creation          8510 non-null   float64\n",
      "dtypes: float64(5), int64(2), object(9)\n",
      "memory usage: 1.1+ MB\n",
      "None\n",
      "Test\n",
      "<class 'pandas.core.frame.DataFrame'>\n",
      "Int64Index: 2322 entries, 88 to 100225\n",
      "Data columns (total 20 columns):\n",
      " #   Column                                      Non-Null Count  Dtype  \n",
      "---  ------                                      --------------  -----  \n",
      " 0   ad_batchId                                  2322 non-null   object \n",
      " 1   ad_taskId                                   2322 non-null   object \n",
      " 2   ad_content_title                            2322 non-null   object \n",
      " 3   ad_content_body                             2235 non-null   object \n",
      " 4   ad_content_price_amount                     2321 non-null   float64\n",
      " 5   ad_content_price_currency                   2321 non-null   object \n",
      " 6   ad_content_createdAt                        2322 non-null   object \n",
      " 7   ad_content_updatedAt                        2322 non-null   object \n",
      " 8   ad_content_customerSpecific_version         2322 non-null   int64  \n",
      " 9   ad_content_customerSpecific_device          2322 non-null   object \n",
      " 10  ad_content_customerSpecific_autoCarOrder    2322 non-null   float64\n",
      " 11  ad_location_ipAddress                       2322 non-null   object \n",
      " 12  ad_location_city                            2322 non-null   object \n",
      " 13  ad_location_region                          2322 non-null   object \n",
      " 14  ad_location_customerSpecific_regionList_id  2322 non-null   float64\n",
      " 15  ad_user_customerSpecific_registeredAt       2218 non-null   object \n",
      " 16  ad_content_customerSpecific_spareCondition  2322 non-null   float64\n",
      " 17  ad_content_customerSpecific_wheelDiscType   2322 non-null   float64\n",
      " 18  ad_content_customerSpecific_wheelSize       2322 non-null   object \n",
      " 19  ad_content_customerSpecific_wheelPcd        2322 non-null   object \n",
      "dtypes: float64(5), int64(1), object(14)\n",
      "memory usage: 381.0+ KB\n",
      "None\n",
      "##################################################\n",
      "Category: Used cars\n",
      "Train\n",
      "<class 'pandas.core.frame.DataFrame'>\n",
      "Int64Index: 151878 entries, 0 to 399996\n",
      "Data columns (total 24 columns):\n",
      " #   Column                                      Non-Null Count   Dtype  \n",
      "---  ------                                      --------------   -----  \n",
      " 0   ad_batchId                                  151878 non-null  object \n",
      " 1   ad_taskId                                   151878 non-null  object \n",
      " 2   ad_content_title                            151878 non-null  object \n",
      " 3   ad_content_body                             124391 non-null  object \n",
      " 4   ad_content_price_amount                     151871 non-null  float64\n",
      " 5   ad_content_customerSpecific_version         151878 non-null  int64  \n",
      " 6   ad_content_customerSpecific_device          151878 non-null  object \n",
      " 7   ad_content_customerSpecific_autoCarMm       151877 non-null  object \n",
      " 8   ad_content_customerSpecific_autoCarBody     151876 non-null  float64\n",
      " 9   ad_content_customerSpecific_autoCarOrder    151872 non-null  float64\n",
      " 10  ad_content_customerSpecific_year            151877 non-null  float64\n",
      " 11  ad_content_customerSpecific_autoRun         90118 non-null   float64\n",
      " 12  ad_content_customerSpecific_autoCarVolume   151841 non-null  float64\n",
      " 13  ad_content_customerSpecific_autoCarTransm   151877 non-null  float64\n",
      " 14  ad_content_customerSpecific_autoColor       139147 non-null  float64\n",
      " 15  ad_content_customerSpecific_autoColorM      79248 non-null   object \n",
      " 16  ad_content_customerSpecific_autoCustom      151874 non-null  float64\n",
      " 17  ad_content_customerSpecific_autoEmergency   151877 non-null  float64\n",
      " 18  ad_content_customerSpecific_autoCarGrbody   151867 non-null  float64\n",
      " 19  ad_content_customerSpecific_carDwheel       133971 non-null  float64\n",
      " 20  ad_location_customerSpecific_regionList_id  151878 non-null  object \n",
      " 21  ad_customerSpecific_moderationDecision      151878 non-null  object \n",
      " 22  time_between_creation_update                151878 non-null  int64  \n",
      " 23  time_between_registration_creation          125475 non-null  float64\n",
      "dtypes: float64(13), int64(2), object(9)\n",
      "memory usage: 29.0+ MB\n",
      "None\n",
      "Test\n"
     ]
    },
    {
     "name": "stdout",
     "output_type": "stream",
     "text": [
      "<class 'pandas.core.frame.DataFrame'>\n",
      "Int64Index: 44016 entries, 0 to 100230\n",
      "Data columns (total 28 columns):\n",
      " #   Column                                      Non-Null Count  Dtype  \n",
      "---  ------                                      --------------  -----  \n",
      " 0   ad_batchId                                  44016 non-null  object \n",
      " 1   ad_taskId                                   44016 non-null  object \n",
      " 2   ad_content_title                            44016 non-null  object \n",
      " 3   ad_content_body                             36115 non-null  object \n",
      " 4   ad_content_price_amount                     44015 non-null  float64\n",
      " 5   ad_content_price_currency                   44015 non-null  object \n",
      " 6   ad_content_createdAt                        44016 non-null  object \n",
      " 7   ad_content_updatedAt                        44016 non-null  object \n",
      " 8   ad_content_customerSpecific_version         44016 non-null  int64  \n",
      " 9   ad_content_customerSpecific_device          44016 non-null  object \n",
      " 10  ad_content_customerSpecific_autoCarMm       44016 non-null  object \n",
      " 11  ad_content_customerSpecific_autoCarBody     44016 non-null  float64\n",
      " 12  ad_content_customerSpecific_autoCarOrder    44015 non-null  float64\n",
      " 13  ad_content_customerSpecific_year            44016 non-null  float64\n",
      " 14  ad_content_customerSpecific_autoRun         26175 non-null  float64\n",
      " 15  ad_content_customerSpecific_autoCarVolume   44002 non-null  float64\n",
      " 16  ad_content_customerSpecific_autoCarTransm   44016 non-null  float64\n",
      " 17  ad_content_customerSpecific_autoColor       40228 non-null  float64\n",
      " 18  ad_content_customerSpecific_autoColorM      22888 non-null  object \n",
      " 19  ad_content_customerSpecific_autoCustom      44016 non-null  float64\n",
      " 20  ad_content_customerSpecific_autoEmergency   44015 non-null  float64\n",
      " 21  ad_content_customerSpecific_autoCarGrbody   44012 non-null  float64\n",
      " 22  ad_content_customerSpecific_carDwheel       38733 non-null  float64\n",
      " 23  ad_location_ipAddress                       44016 non-null  object \n",
      " 24  ad_location_city                            44016 non-null  object \n",
      " 25  ad_location_region                          44016 non-null  object \n",
      " 26  ad_location_customerSpecific_regionList_id  44016 non-null  float64\n",
      " 27  ad_user_customerSpecific_registeredAt       36804 non-null  object \n",
      "dtypes: float64(13), int64(1), object(14)\n",
      "memory usage: 9.7+ MB\n",
      "None\n",
      "##################################################\n"
     ]
    }
   ],
   "source": [
    "for category in categories:\n",
    "    print(\"Category: {}\".format(category))\n",
    "    print(\"Train\")\n",
    "    print(train_data_by_category[category].info())\n",
    "    print(\"Test\")\n",
    "    print(test_data_by_category[category].info())\n",
    "    print(\"#\"*50)"
   ]
  },
  {
   "cell_type": "markdown",
   "metadata": {},
   "source": [
    "**Conlusion**: The dataset is in fact the concatenation of four datasets, each of them for a specific catgeory."
   ]
  },
  {
   "cell_type": "code",
   "execution_count": null,
   "metadata": {},
   "outputs": [],
   "source": []
  }
 ],
 "metadata": {
  "kernelspec": {
   "display_name": "Python 3",
   "language": "python",
   "name": "python3"
  },
  "language_info": {
   "codemirror_mode": {
    "name": "ipython",
    "version": 3
   },
   "file_extension": ".py",
   "mimetype": "text/x-python",
   "name": "python",
   "nbconvert_exporter": "python",
   "pygments_lexer": "ipython3",
   "version": "3.7.7"
  }
 },
 "nbformat": 4,
 "nbformat_minor": 2
}
